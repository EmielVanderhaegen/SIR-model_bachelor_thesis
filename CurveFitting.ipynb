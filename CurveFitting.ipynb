{
 "cells": [
  {
   "cell_type": "code",
   "execution_count": 11,
   "metadata": {
    "scrolled": true
   },
   "outputs": [],
   "source": [
    "#Import libraries\n",
    "import matplotlib.pyplot as plt\n",
    "import numpy as np\n",
    "import scipy\n",
    "from scipy import optimize\n",
    "import pandas"
   ]
  },
  {
   "cell_type": "code",
   "execution_count": 12,
   "metadata": {
    "scrolled": true
   },
   "outputs": [],
   "source": [
    "#Data from scienscano https://epistat.wiv-isp.be/covid/ from March 1st to May 18th (2020)\n",
    "#IR_data contains data on the variable I+R in the SIR-model\n",
    "#t_data simply contains the days numbered as [0, 1, 2, ...]\n",
    "IR_data = np.array([2564, 3098, 3811, 4473, 4942, 5428, 6756, 7951, 9150, 10513, 12031, 12875, 13558, 15296, 16977, 18493, 19971, 21665, 22587, 23252, 25186, 26701, 28299, 30538, 32874, 33903, 34427, 34964, 36524, 38157, 39831, 41225, 41947, 42390, 43666, 44936, 45713, 46689, 47500, 47888, 48093, 48848, 49417, 49939, 50525, 50762, 51048, 51188, 51858, 52404, 52956, 53398, 53881, 54121, 54239, 54715, 55110, 55431, 55736, 56082, 56229, 56310, 56627])\n",
    "t_data = np.arange(0,len(IR_data),1)"
   ]
  },
  {
   "cell_type": "code",
   "execution_count": 25,
   "metadata": {
    "scrolled": true
   },
   "outputs": [
    {
     "data": {
      "text/plain": [
       "[<matplotlib.lines.Line2D at 0x2090bc93070>]"
      ]
     },
     "execution_count": 25,
     "metadata": {},
     "output_type": "execute_result"
    },
    {
     "data": {
      "image/png": "[encoded data removed]",
      "text/plain": [
       "<Figure size 432x288 with 1 Axes>"
      ]
     },
     "metadata": {
      "needs_background": "light"
     },
     "output_type": "display_data"
    }
   ],
   "source": [
    "#Visualize data\n",
    "fig, ax = plt.subplots(1)\n",
    "ax.plot(t_data,IR_data, 'b')"
   ]
  },
  {
   "cell_type": "code",
   "execution_count": 18,
   "metadata": {
    "scrolled": true
   },
   "outputs": [],
   "source": [
    "def model(t_array, beta, gamma):\n",
    "    a = 10000\n",
    "    delta_t = 1/a  #time step for Euler method\n",
    "    \n",
    "    #fraction (0.005) of population of Belgium (11.46*10**6).\n",
    "    #We only consider a small fraction since many people stay isolated, don't have symptoms\n",
    "    N = 11.46 * 10**6 * 0.005\n",
    "    \n",
    "\n",
    "    max_time = len(t_array)\n",
    "    #New time array to apply Euler method later on\n",
    "    new_t_array = np.arange(0,max_time-1+delta_t,delta_t)\n",
    "\n",
    "    S = np.empty(len(new_t_array))\n",
    "    I = np.empty(len(new_t_array))\n",
    "    R = np.empty(len(new_t_array))\n",
    "    \n",
    "    S[0] = N\n",
    "    #Approximation of I[0] based on data\n",
    "    I[0] = 500\n",
    "    #Approximation of R[0] based on data\n",
    "    R[0] = 2000\n",
    "    \n",
    "    #Euler method to determine S, I, R\n",
    "    for t in range(len(new_t_array)-1):\n",
    "        S[t+1] = S[t] + delta_t * (-beta*S[t]*I[t]/N)\n",
    "        I[t+1] = I[t] + delta_t * (beta*S[t]*I[t]/N-gamma*I[t])\n",
    "        R[t+1] = R[t] + delta_t * (gamma*I[t])\n",
    "        \n",
    "    #Fitting the S, I, R on the t_data\n",
    "    S_on_t_array = S[0:len(new_t_array):a]\n",
    "    I_on_t_array = I[0:len(new_t_array):a]\n",
    "    R_on_t_array = R[0:len(new_t_array):a]\n",
    "    return I_on_t_array + R_on_t_array"
   ]
  },
  {
   "cell_type": "code",
   "execution_count": 19,
   "metadata": {
    "scrolled": true
   },
   "outputs": [],
   "source": [
    "# Applying the curve fitting from SciPy package\n",
    "from scipy.optimize import curve_fit\n",
    "init_vals=[0.3,0.2]\n",
    "best_vals, covar = curve_fit(model, t_data, IR_data, p0 = init_vals, maxfev = 1000)"
   ]
  },
  {
   "cell_type": "code",
   "execution_count": 22,
   "metadata": {
    "scrolled": true
   },
   "outputs": [
    {
     "data": {
      "text/plain": [
       "(array([0.32912258, 0.13614549]),\n",
       " array([[8.21913779e-05, 6.49931882e-05],\n",
       "        [6.49931882e-05, 5.52285028e-05]]))"
      ]
     },
     "execution_count": 22,
     "metadata": {},
     "output_type": "execute_result"
    }
   ],
   "source": [
    "# Printing the least squares estimatetd parameters\n",
    "best_vals, covar"
   ]
  },
  {
   "cell_type": "code",
   "execution_count": 26,
   "metadata": {
    "scrolled": true
   },
   "outputs": [
    {
     "data": {
      "text/plain": [
       "[<matplotlib.lines.Line2D at 0x2090bced520>]"
      ]
     },
     "execution_count": 26,
     "metadata": {},
     "output_type": "execute_result"
    },
    {
     "data": {
      "image/png": "[encoded data removed]",
      "text/plain": [
       "<Figure size 432x288 with 1 Axes>"
      ]
     },
     "metadata": {
      "needs_background": "light"
     },
     "output_type": "display_data"
    }
   ],
   "source": [
    "# Plotting the I+R data and comparing it to the model prediction\n",
    "output = model(t_data, best_vals[0], best_vals[1])\n",
    "fig, axs = plt.subplots(1)\n",
    "axs.plot(t_data,output, 'r')\n",
    "axs.plot(t_data,IR_data,color = 'b')"
   ]
  },
  {
   "cell_type": "code",
   "execution_count": null,
   "metadata": {},
   "outputs": [],
   "source": []
  }
 ],
 "metadata": {
  "kernelspec": {
   "display_name": "Python 3",
   "language": "python",
   "name": "python3"
  },
  "language_info": {
   "codemirror_mode": {
    "name": "ipython",
    "version": 3
   },
   "file_extension": ".py",
   "mimetype": "text/x-python",
   "name": "python",
   "nbconvert_exporter": "python",
   "pygments_lexer": "ipython3",
   "version": "3.8.5"
  }
 },
 "nbformat": 4,
 "nbformat_minor": 4
}
